{
 "cells": [
  {
   "cell_type": "code",
   "execution_count": 1,
   "id": "116dce23",
   "metadata": {},
   "outputs": [],
   "source": [
    "import pandas as pd"
   ]
  },
  {
   "cell_type": "code",
   "execution_count": null,
   "id": "bb0d6fea",
   "metadata": {},
   "outputs": [],
   "source": [
    "# script splits the Human Protein Atlas gene file into separate files according to chromosome\n",
    "# as the coverage & WPS sample files are split by chromosome\n",
    "# these gene files are then used to make gene-wise coverage & WPS matrices for each sample with gene_matrices.py"
   ]
  },
  {
   "cell_type": "code",
   "execution_count": 3,
   "id": "980689c3",
   "metadata": {},
   "outputs": [],
   "source": [
    "# Reading in the gene list\n",
    "genes_tsv = \"/mnt/DATA1/resources/transcriptAnno-v38-protein-coding-genes.body.tsv\"\n",
    "names = [\"id\", \"chr\", \"start\", \"end\", \"strand\"]\n",
    "genes_df = pd.read_csv(genes_tsv, names=names, delimiter='\\t').set_index('id')\n",
    "\n",
    "#Splitting the genes_df into separate dfs by chromosome\n",
    "chr_df_tuple = [x for x in genes_df.groupby('chr', as_index=False)]\n",
    "\n",
    "#Writing the gene list dfs to separate files\n",
    "for chromosome, dataframe in chr_df_tuple:\n",
    "    file_name = f'genes_{chromosome}.parquet'\n",
    "    file_location = f'/mnt/DATA1/resources/genes/{file_name}'\n",
    "    chr_genes_df = dataframe\n",
    "    chr_genes_df.to_parquet(file_location)"
   ]
  }
 ],
 "metadata": {
  "kernelspec": {
   "display_name": "Python 3 (ipykernel)",
   "language": "python",
   "name": "python3"
  },
  "language_info": {
   "codemirror_mode": {
    "name": "ipython",
    "version": 3
   },
   "file_extension": ".py",
   "mimetype": "text/x-python",
   "name": "python",
   "nbconvert_exporter": "python",
   "pygments_lexer": "ipython3",
   "version": "3.8.13"
  }
 },
 "nbformat": 4,
 "nbformat_minor": 5
}
