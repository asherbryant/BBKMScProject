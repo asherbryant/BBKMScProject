{
 "cells": [
  {
   "cell_type": "code",
   "execution_count": 40,
   "id": "3e7c187f",
   "metadata": {},
   "outputs": [],
   "source": [
    "import glob\n",
    "import pandas as pd\n",
    "import itertools\n",
    "from scipy import stats"
   ]
  },
  {
   "cell_type": "markdown",
   "id": "62a06e4e",
   "metadata": {},
   "source": [
    "### Get a list of TFs, controls, and case sample names"
   ]
  },
  {
   "cell_type": "code",
   "execution_count": 41,
   "id": "9600ebcf",
   "metadata": {},
   "outputs": [],
   "source": [
    "product_files = sorted(glob.glob('**/*product.parquet', recursive=True))\n",
    "combo_files = sorted(glob.glob('**/*combinations.parquet', recursive=True))\n",
    "\n",
    "df = pd.read_parquet(product_files[0])\n",
    "ctrls = df.query('sample_1.str.contains(\"HV\")', engine='python')\n",
    "ctrls = ctrls['sample_1'].unique().tolist()\n",
    "tfs = df['TF'].unique().tolist()\n",
    "\n",
    "\n",
    "all_case_samples = []\n",
    "for i in range(len(product_files)):\n",
    "    df = pd.read_parquet(product_files[i])\n",
    "    samples = df['sample_1'].unique().tolist()\n",
    "    case_samples = [x for x in samples if x not in ctrls]\n",
    "    all_case_samples.extend(case_samples)"
   ]
  },
  {
   "cell_type": "markdown",
   "id": "4dc8714f",
   "metadata": {},
   "source": [
    "### KS functions"
   ]
  },
  {
   "cell_type": "code",
   "execution_count": 42,
   "id": "456cc3cc",
   "metadata": {},
   "outputs": [],
   "source": [
    "def get_distance_lists(grouped_cases, ctrls):\n",
    "    all_group_distances = []\n",
    "    for group in grouped_cases:\n",
    "        group_distances = []\n",
    "        for sample in group:\n",
    "            if sample == \"OMD1_PreRT\":\n",
    "                case = 'OMD001'\n",
    "            elif sample in HN:\n",
    "                case = sample[:5]\n",
    "            elif sample in OMD:\n",
    "                case = sample[:6]\n",
    "            else:\n",
    "                case = sample\n",
    "\n",
    "            sample_distances = []\n",
    "            product_df = pd.read_parquet(f'{case}/{case}_product.parquet')\n",
    "            for tf in tfs:\n",
    "                distances = product_df.query(f\"TF  == '{tf}' & sample_1 == '{sample}' & sample_2 in {ctrls} \")['distance'].to_numpy()\n",
    "                sample_distances.extend(distances)\n",
    "            group_distances.extend(sample_distances)\n",
    "        all_group_distances.append(group_distances)\n",
    "\n",
    "        \n",
    "    all_control_distnaces = []\n",
    "    for ctrl in ctrls:\n",
    "        ctrl_distances = []\n",
    "        for tf in tfs:\n",
    "            other_ctrls = [x for x in ctrls if x != ctrl]\n",
    "            combinations_df = pd.read_parquet(f'{case}/{case}_combinations.parquet') # which case not important - all have same ctrl-ctrl distances\n",
    "            distances = product_df.query(f\"TF  == '{tf}' & sample_1 == '{ctrl}' & sample_2 in {other_ctrls} \")['distance'].to_numpy()\n",
    "            ctrl_distances.extend(distances)\n",
    "        all_control_distnaces.extend(ctrl_distances)\n",
    "\n",
    "    all_group_distances.append(all_control_distnaces)\n",
    "        \n",
    "    return all_group_distances\n",
    "        \n",
    "        "
   ]
  },
  {
   "cell_type": "code",
   "execution_count": 43,
   "id": "46e576bb",
   "metadata": {},
   "outputs": [],
   "source": [
    "def get_ks_df(group_names, grouped_cases, ctrls):\n",
    "    \n",
    "    all_group_distances = get_distance_lists(grouped_cases, ctrls)\n",
    "    \n",
    "    name_combos = list(itertools.combinations(group_names, 2))\n",
    "    distance_combos = list(itertools.combinations(all_group_distances, 2))\n",
    "    \n",
    "    compared_groups = []\n",
    "    group_pvalues = []\n",
    "    group_Dstats = []\n",
    "    for i in range(len(name_combos)):\n",
    "        paired_groups = list(name_combos[i])\n",
    "        paired_arrays = distance_combos[i]\n",
    "        g1_array = paired_arrays[0]\n",
    "        g2_array = paired_arrays[1]\n",
    "        less = [['HN', 'CTRL'], ['OMD', 'CTRL'], ['PV', 'CTRL']]\n",
    "        if paired_groups in less:\n",
    "            D, p =stats.ks_2samp(g1_array, g2_array, alternative='less')\n",
    "        else:\n",
    "            D, p =stats.ks_2samp(g1_array, g2_array, alternative='greater')\n",
    "\n",
    "        correction =  len(name_combos)\n",
    "        adj_p = p * correction\n",
    "        group_pvalues.append(p)\n",
    "        group_Dstats.append(D)\n",
    "        compared_groups.append(paired_groups)\n",
    "\n",
    "    group_ks_lists = []\n",
    "    for i in range(len(compared_groups)):\n",
    "        group_ks_list = [compared_groups[i][0], compared_groups[i][1], group_Dstats[i], group_pvalues[i]]\n",
    "        group_ks_lists.append(group_ks_list)\n",
    "\n",
    "    group_ks_df = pd.DataFrame(group_ks_lists, columns = ['Group 1', 'Group 2', 'D Statistic', 'P-value'])\n",
    "    \n",
    "    return group_ks_df"
   ]
  },
  {
   "cell_type": "markdown",
   "id": "2c23dad3",
   "metadata": {},
   "source": [
    "### Group results"
   ]
  },
  {
   "cell_type": "markdown",
   "id": "78c58203",
   "metadata": {},
   "source": [
    "#### Baseline"
   ]
  },
  {
   "cell_type": "code",
   "execution_count": 44,
   "id": "23553060",
   "metadata": {},
   "outputs": [
    {
     "data": {
      "text/html": [
       "<div>\n",
       "<style scoped>\n",
       "    .dataframe tbody tr th:only-of-type {\n",
       "        vertical-align: middle;\n",
       "    }\n",
       "\n",
       "    .dataframe tbody tr th {\n",
       "        vertical-align: top;\n",
       "    }\n",
       "\n",
       "    .dataframe thead th {\n",
       "        text-align: right;\n",
       "    }\n",
       "</style>\n",
       "<table border=\"1\" class=\"dataframe\">\n",
       "  <thead>\n",
       "    <tr style=\"text-align: right;\">\n",
       "      <th></th>\n",
       "      <th>Group 1</th>\n",
       "      <th>Group 2</th>\n",
       "      <th>D Statistic</th>\n",
       "      <th>P-value</th>\n",
       "    </tr>\n",
       "  </thead>\n",
       "  <tbody>\n",
       "    <tr>\n",
       "      <th>0</th>\n",
       "      <td>HN</td>\n",
       "      <td>OMD</td>\n",
       "      <td>0.154519</td>\n",
       "      <td>2.718289e-04</td>\n",
       "    </tr>\n",
       "    <tr>\n",
       "      <th>1</th>\n",
       "      <td>HN</td>\n",
       "      <td>PV</td>\n",
       "      <td>0.291910</td>\n",
       "      <td>1.522483e-14</td>\n",
       "    </tr>\n",
       "    <tr>\n",
       "      <th>2</th>\n",
       "      <td>HN</td>\n",
       "      <td>CTRL</td>\n",
       "      <td>0.293489</td>\n",
       "      <td>8.014207e-13</td>\n",
       "    </tr>\n",
       "    <tr>\n",
       "      <th>3</th>\n",
       "      <td>OMD</td>\n",
       "      <td>PV</td>\n",
       "      <td>0.204446</td>\n",
       "      <td>1.790156e-07</td>\n",
       "    </tr>\n",
       "    <tr>\n",
       "      <th>4</th>\n",
       "      <td>OMD</td>\n",
       "      <td>CTRL</td>\n",
       "      <td>0.426628</td>\n",
       "      <td>1.127487e-26</td>\n",
       "    </tr>\n",
       "    <tr>\n",
       "      <th>5</th>\n",
       "      <td>PV</td>\n",
       "      <td>CTRL</td>\n",
       "      <td>0.556973</td>\n",
       "      <td>8.838014e-49</td>\n",
       "    </tr>\n",
       "  </tbody>\n",
       "</table>\n",
       "</div>"
      ],
      "text/plain": [
       "  Group 1 Group 2  D Statistic       P-value\n",
       "0      HN     OMD     0.154519  2.718289e-04\n",
       "1      HN      PV     0.291910  1.522483e-14\n",
       "2      HN    CTRL     0.293489  8.014207e-13\n",
       "3     OMD      PV     0.204446  1.790156e-07\n",
       "4     OMD    CTRL     0.426628  1.127487e-26\n",
       "5      PV    CTRL     0.556973  8.838014e-49"
      ]
     },
     "execution_count": 44,
     "metadata": {},
     "output_type": "execute_result"
    }
   ],
   "source": [
    "HN = sorted([sample for sample in all_case_samples if sample.endswith('BL') and sample.startswith('HN')] \\\n",
    "         +  [sample for sample in all_case_samples if sample.endswith('Pre') and sample.startswith('HN')] )\n",
    "OMD = sorted([sample for sample in all_case_samples if sample.endswith('BL') and sample.startswith('OMD')] \\\n",
    "         +  ['OMD1_PreRT'] )\n",
    "PV = sorted([sample for sample in all_case_samples if sample.startswith('PV')])\n",
    "grouped_cases = [HN, OMD, PV]\n",
    "group_names = [\"HN\", \"OMD\", \"PV\", \"CTRL\"]\n",
    "\n",
    "group_ks_df = get_ks_df(group_names, grouped_cases, ctrls)\n",
    "group_ks_df"
   ]
  },
  {
   "cell_type": "markdown",
   "id": "c5909a48",
   "metadata": {},
   "source": [
    "#### Treatment 1"
   ]
  },
  {
   "cell_type": "code",
   "execution_count": 45,
   "id": "e7424705",
   "metadata": {},
   "outputs": [
    {
     "data": {
      "text/html": [
       "<div>\n",
       "<style scoped>\n",
       "    .dataframe tbody tr th:only-of-type {\n",
       "        vertical-align: middle;\n",
       "    }\n",
       "\n",
       "    .dataframe tbody tr th {\n",
       "        vertical-align: top;\n",
       "    }\n",
       "\n",
       "    .dataframe thead th {\n",
       "        text-align: right;\n",
       "    }\n",
       "</style>\n",
       "<table border=\"1\" class=\"dataframe\">\n",
       "  <thead>\n",
       "    <tr style=\"text-align: right;\">\n",
       "      <th></th>\n",
       "      <th>Group 1</th>\n",
       "      <th>Group 2</th>\n",
       "      <th>D Statistic</th>\n",
       "      <th>P-value</th>\n",
       "    </tr>\n",
       "  </thead>\n",
       "  <tbody>\n",
       "    <tr>\n",
       "      <th>0</th>\n",
       "      <td>HN</td>\n",
       "      <td>OMD</td>\n",
       "      <td>0.288630</td>\n",
       "      <td>2.696960e-13</td>\n",
       "    </tr>\n",
       "    <tr>\n",
       "      <th>1</th>\n",
       "      <td>HN</td>\n",
       "      <td>CTRL</td>\n",
       "      <td>0.490768</td>\n",
       "      <td>1.973806e-35</td>\n",
       "    </tr>\n",
       "    <tr>\n",
       "      <th>2</th>\n",
       "      <td>OMD</td>\n",
       "      <td>CTRL</td>\n",
       "      <td>0.439261</td>\n",
       "      <td>2.752354e-28</td>\n",
       "    </tr>\n",
       "  </tbody>\n",
       "</table>\n",
       "</div>"
      ],
      "text/plain": [
       "  Group 1 Group 2  D Statistic       P-value\n",
       "0      HN     OMD     0.288630  2.696960e-13\n",
       "1      HN    CTRL     0.490768  1.973806e-35\n",
       "2     OMD    CTRL     0.439261  2.752354e-28"
      ]
     },
     "execution_count": 45,
     "metadata": {},
     "output_type": "execute_result"
    }
   ],
   "source": [
    "HN = sorted([sample for sample in all_case_samples if sample.endswith('d8')]) \n",
    "OMD = sorted([sample for sample in all_case_samples if sample.endswith('d2')])\n",
    "grouped_cases = [HN, OMD]\n",
    "group_names = [\"HN\", \"OMD\", \"CTRL\"]\n",
    "\n",
    "group_ks_df = get_ks_df(group_names, grouped_cases, ctrls)\n",
    "group_ks_df"
   ]
  },
  {
   "cell_type": "markdown",
   "id": "a01ae6a1",
   "metadata": {},
   "source": [
    "#### Treatment 2"
   ]
  },
  {
   "cell_type": "code",
   "execution_count": 46,
   "id": "df5b69fa",
   "metadata": {},
   "outputs": [
    {
     "data": {
      "text/html": [
       "<div>\n",
       "<style scoped>\n",
       "    .dataframe tbody tr th:only-of-type {\n",
       "        vertical-align: middle;\n",
       "    }\n",
       "\n",
       "    .dataframe tbody tr th {\n",
       "        vertical-align: top;\n",
       "    }\n",
       "\n",
       "    .dataframe thead th {\n",
       "        text-align: right;\n",
       "    }\n",
       "</style>\n",
       "<table border=\"1\" class=\"dataframe\">\n",
       "  <thead>\n",
       "    <tr style=\"text-align: right;\">\n",
       "      <th></th>\n",
       "      <th>Group 1</th>\n",
       "      <th>Group 2</th>\n",
       "      <th>D Statistic</th>\n",
       "      <th>P-value</th>\n",
       "    </tr>\n",
       "  </thead>\n",
       "  <tbody>\n",
       "    <tr>\n",
       "      <th>0</th>\n",
       "      <td>HN</td>\n",
       "      <td>OMD</td>\n",
       "      <td>0.212828</td>\n",
       "      <td>1.624726e-07</td>\n",
       "    </tr>\n",
       "    <tr>\n",
       "      <th>1</th>\n",
       "      <td>HN</td>\n",
       "      <td>CTRL</td>\n",
       "      <td>0.590865</td>\n",
       "      <td>3.945306e-52</td>\n",
       "    </tr>\n",
       "    <tr>\n",
       "      <th>2</th>\n",
       "      <td>OMD</td>\n",
       "      <td>CTRL</td>\n",
       "      <td>0.690962</td>\n",
       "      <td>4.291952e-73</td>\n",
       "    </tr>\n",
       "  </tbody>\n",
       "</table>\n",
       "</div>"
      ],
      "text/plain": [
       "  Group 1 Group 2  D Statistic       P-value\n",
       "0      HN     OMD     0.212828  1.624726e-07\n",
       "1      HN    CTRL     0.590865  3.945306e-52\n",
       "2     OMD    CTRL     0.690962  4.291952e-73"
      ]
     },
     "execution_count": 46,
     "metadata": {},
     "output_type": "execute_result"
    }
   ],
   "source": [
    "HN = sorted([sample for sample in all_case_samples if sample.endswith('d49')] \\\n",
    "            + [sample for sample in all_case_samples if sample.endswith('d43')] \\\n",
    "            + [sample for sample in all_case_samples if sample.endswith('D43')])\n",
    "OMD = sorted([sample for sample in all_case_samples if sample.endswith('d5')] \\\n",
    "            + [sample for sample in all_case_samples if sample.endswith('d10')])\n",
    "grouped_cases = [HN, OMD]\n",
    "group_names = [\"HN\", \"OMD\", \"CTRL\"]\n",
    "\n",
    "group_ks_df = get_ks_df(group_names, grouped_cases, ctrls)\n",
    "group_ks_df"
   ]
  },
  {
   "cell_type": "markdown",
   "id": "e03acf38",
   "metadata": {},
   "source": [
    "#### Follow-up 1"
   ]
  },
  {
   "cell_type": "code",
   "execution_count": 47,
   "id": "df65c0f0",
   "metadata": {},
   "outputs": [
    {
     "data": {
      "text/html": [
       "<div>\n",
       "<style scoped>\n",
       "    .dataframe tbody tr th:only-of-type {\n",
       "        vertical-align: middle;\n",
       "    }\n",
       "\n",
       "    .dataframe tbody tr th {\n",
       "        vertical-align: top;\n",
       "    }\n",
       "\n",
       "    .dataframe thead th {\n",
       "        text-align: right;\n",
       "    }\n",
       "</style>\n",
       "<table border=\"1\" class=\"dataframe\">\n",
       "  <thead>\n",
       "    <tr style=\"text-align: right;\">\n",
       "      <th></th>\n",
       "      <th>Group 1</th>\n",
       "      <th>Group 2</th>\n",
       "      <th>D Statistic</th>\n",
       "      <th>P-value</th>\n",
       "    </tr>\n",
       "  </thead>\n",
       "  <tbody>\n",
       "    <tr>\n",
       "      <th>0</th>\n",
       "      <td>HN</td>\n",
       "      <td>OMD</td>\n",
       "      <td>0.005831</td>\n",
       "      <td>9.884226e-01</td>\n",
       "    </tr>\n",
       "    <tr>\n",
       "      <th>1</th>\n",
       "      <td>HN</td>\n",
       "      <td>CTRL</td>\n",
       "      <td>0.422741</td>\n",
       "      <td>3.446825e-26</td>\n",
       "    </tr>\n",
       "    <tr>\n",
       "      <th>2</th>\n",
       "      <td>OMD</td>\n",
       "      <td>CTRL</td>\n",
       "      <td>0.344995</td>\n",
       "      <td>1.610161e-17</td>\n",
       "    </tr>\n",
       "  </tbody>\n",
       "</table>\n",
       "</div>"
      ],
      "text/plain": [
       "  Group 1 Group 2  D Statistic       P-value\n",
       "0      HN     OMD     0.005831  9.884226e-01\n",
       "1      HN    CTRL     0.422741  3.446825e-26\n",
       "2     OMD    CTRL     0.344995  1.610161e-17"
      ]
     },
     "execution_count": 47,
     "metadata": {},
     "output_type": "execute_result"
    }
   ],
   "source": [
    "HN = sorted([sample for sample in all_case_samples if sample.endswith('3m') and sample.startswith('HN')])\n",
    "OMD = sorted([sample for sample in all_case_samples if sample.endswith('3m') and sample.startswith('OMD')])\n",
    "grouped_cases = [HN, OMD]\n",
    "group_names = [\"HN\", \"OMD\", \"CTRL\"]\n",
    "\n",
    "group_ks_df = get_ks_df(group_names, grouped_cases, ctrls)\n",
    "group_ks_df"
   ]
  }
 ],
 "metadata": {
  "kernelspec": {
   "display_name": "Python 3 (ipykernel)",
   "language": "python",
   "name": "python3"
  },
  "language_info": {
   "codemirror_mode": {
    "name": "ipython",
    "version": 3
   },
   "file_extension": ".py",
   "mimetype": "text/x-python",
   "name": "python",
   "nbconvert_exporter": "python",
   "pygments_lexer": "ipython3",
   "version": "3.8.12"
  }
 },
 "nbformat": 4,
 "nbformat_minor": 5
}
